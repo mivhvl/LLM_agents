{
 "cells": [
  {
   "cell_type": "code",
   "execution_count": 6,
   "id": "e5bd542e",
   "metadata": {},
   "outputs": [
    {
     "name": "stdout",
     "output_type": "stream",
     "text": [
      "\u001b[33mWARNING: You are using pip version 21.3.1; however, version 25.0 is available.\n",
      "You should consider upgrading via the '/Library/Frameworks/Python.framework/Versions/3.10/bin/python3.10 -m pip install --upgrade pip' command.\u001b[0m\n",
      "Note: you may need to restart the kernel to use updated packages.\n"
     ]
    }
   ],
   "source": [
    "# This library is used for only study purposes, allows users to get an GPT-4 access\n",
    "# repo https://github.com/xtekky/gpt4free\n",
    "# %pip install -q -U g4f\n",
    "# This library provides convenient access to the Anthropic REST API from any Python 3.8+ application (Claude AI)\n",
    "# repo https://github.com/anthropics/anthropic-sdk-python\n",
    "# %pip install -q anthropic\n",
    "# Important library to keep sensitive info about API keys in .env files, without setting them into main files\n",
    "%pip install -q python-dotenv\n",
    "# Other relevant libraries to execute algorithms\n",
    "# %pip install -q json requests re os"
   ]
  },
  {
   "cell_type": "code",
   "execution_count": 7,
   "id": "0e967893",
   "metadata": {},
   "outputs": [],
   "source": [
    "# Import libraries\n",
    "import re \n",
    "import os\n",
    "import json\n",
    "import requests\n",
    "from g4f.client import Client # gpt client\n",
    "from dotenv import load_dotenv"
   ]
  },
  {
   "cell_type": "code",
   "execution_count": 16,
   "id": "3453248d",
   "metadata": {},
   "outputs": [
    {
     "name": "stdout",
     "output_type": "stream",
     "text": [
      "Packages versions:\n",
      " requests: 2.27.1\n",
      " g4f: 0.3.8.3\n",
      " re: 2.2.1\n",
      " json: 2.0.9\n"
     ]
    }
   ],
   "source": [
    "# Check library versions\n",
    "print(\"Packages versions:\")\n",
    "print(f\" requests: {requests.__version__}\")\n",
    "print(\" g4f: 0.3.8.3\")\n",
    "print(f\" re: {re.__version__}\")\n",
    "print(f\" json: {json.__version__}\")"
   ]
  },
  {
   "cell_type": "code",
   "execution_count": 10,
   "id": "ef02ac1c",
   "metadata": {},
   "outputs": [
    {
     "name": "stdout",
     "output_type": "stream",
     "text": [
      "Python 3.12.2\r\n"
     ]
    }
   ],
   "source": [
    "# Check Python version\n",
    "!python3 --version"
   ]
  },
  {
   "cell_type": "code",
   "execution_count": 17,
   "id": "939aa7e2",
   "metadata": {},
   "outputs": [],
   "source": [
    "# Loade variables from the .env file\n",
    "load_dotenv()\n",
    "# Retrieve Gemini Api Key from Google Colab (Google AI Studio) - free trial 90 days (300$ to use)\n",
    "GEM_KEY = os.getenv('GEM_KEY')"
   ]
  },
  {
   "cell_type": "code",
   "execution_count": 18,
   "id": "9af9e74b",
   "metadata": {},
   "outputs": [],
   "source": [
    "# Allows sending queries to Google Gemini API and get an answer (vers. gemini-1.5-flash)\n",
    "# Arguments:\n",
    "#   question: The question to ask the model.\n",
    "# Returns:\n",
    "#   data['choices'][0]['message']['content']: The response from the chatbot.\n",
    "def gemini_function(question: str) -> str:\n",
    "    \n",
    "    if not question or not isinstance(question, str):\n",
    "        raise ValueError(\"Question can't be empty\")\n",
    "        \n",
    "    url = 'https://generativelanguage.googleapis.com/v1beta/chat/completions' # the API Google Gemini url\n",
    "    headers = {\n",
    "        \"Content-Type\": \"application/json\",\n",
    "        \"Authorization\": f\"Bearer {GEM_KEY}\" # own API KEY (Google Cloud)\n",
    "    }\n",
    "    payload = {\n",
    "        \"model\": \"gemini-1.5-flash\",\n",
    "        \"messages\": [{\"role\": \"user\", \"content\": question}] # question\n",
    "    }\n",
    "\n",
    "    try:\n",
    "        response = requests.post(url, headers=headers, json=payload)\n",
    "        response.raise_for_status()\n",
    "        data = response.json()\n",
    "        return data['choices'][0]['message']['content'] # Returns content of the model's answer\n",
    "    except requests.RequestException as e:\n",
    "        raise RuntimeError(f\"Error: {e}\")\n",
    "    except KeyError:\n",
    "        raise RuntimeError(\"Incorrect answer format.\")"
   ]
  },
  {
   "cell_type": "code",
   "execution_count": 19,
   "id": "7ff4f12c",
   "metadata": {},
   "outputs": [
    {
     "ename": "RuntimeError",
     "evalue": "Error: 400 Client Error: Bad Request for url: https://generativelanguage.googleapis.com/v1beta/chat/completions",
     "output_type": "error",
     "traceback": [
      "\u001b[0;31m---------------------------------------------------------------------------\u001b[0m",
      "\u001b[0;31mHTTPError\u001b[0m                                 Traceback (most recent call last)",
      "\u001b[0;32m/var/folders/51/fbzmg20s5p71l90t_lz973080000gn/T/ipykernel_2706/3817343181.py\u001b[0m in \u001b[0;36mgemini_function\u001b[0;34m(question)\u001b[0m\n\u001b[1;32m     22\u001b[0m         \u001b[0mresponse\u001b[0m \u001b[0;34m=\u001b[0m \u001b[0mrequests\u001b[0m\u001b[0;34m.\u001b[0m\u001b[0mpost\u001b[0m\u001b[0;34m(\u001b[0m\u001b[0murl\u001b[0m\u001b[0;34m,\u001b[0m \u001b[0mheaders\u001b[0m\u001b[0;34m=\u001b[0m\u001b[0mheaders\u001b[0m\u001b[0;34m,\u001b[0m \u001b[0mjson\u001b[0m\u001b[0;34m=\u001b[0m\u001b[0mpayload\u001b[0m\u001b[0;34m)\u001b[0m\u001b[0;34m\u001b[0m\u001b[0;34m\u001b[0m\u001b[0m\n\u001b[0;32m---> 23\u001b[0;31m         \u001b[0mresponse\u001b[0m\u001b[0;34m.\u001b[0m\u001b[0mraise_for_status\u001b[0m\u001b[0;34m(\u001b[0m\u001b[0;34m)\u001b[0m\u001b[0;34m\u001b[0m\u001b[0;34m\u001b[0m\u001b[0m\n\u001b[0m\u001b[1;32m     24\u001b[0m         \u001b[0mdata\u001b[0m \u001b[0;34m=\u001b[0m \u001b[0mresponse\u001b[0m\u001b[0;34m.\u001b[0m\u001b[0mjson\u001b[0m\u001b[0;34m(\u001b[0m\u001b[0;34m)\u001b[0m\u001b[0;34m\u001b[0m\u001b[0;34m\u001b[0m\u001b[0m\n",
      "\u001b[0;32m/Library/Frameworks/Python.framework/Versions/3.10/lib/python3.10/site-packages/requests/models.py\u001b[0m in \u001b[0;36mraise_for_status\u001b[0;34m(self)\u001b[0m\n\u001b[1;32m    959\u001b[0m         \u001b[0;32mif\u001b[0m \u001b[0mhttp_error_msg\u001b[0m\u001b[0;34m:\u001b[0m\u001b[0;34m\u001b[0m\u001b[0;34m\u001b[0m\u001b[0m\n\u001b[0;32m--> 960\u001b[0;31m             \u001b[0;32mraise\u001b[0m \u001b[0mHTTPError\u001b[0m\u001b[0;34m(\u001b[0m\u001b[0mhttp_error_msg\u001b[0m\u001b[0;34m,\u001b[0m \u001b[0mresponse\u001b[0m\u001b[0;34m=\u001b[0m\u001b[0mself\u001b[0m\u001b[0;34m)\u001b[0m\u001b[0;34m\u001b[0m\u001b[0;34m\u001b[0m\u001b[0m\n\u001b[0m\u001b[1;32m    961\u001b[0m \u001b[0;34m\u001b[0m\u001b[0m\n",
      "\u001b[0;31mHTTPError\u001b[0m: 400 Client Error: Bad Request for url: https://generativelanguage.googleapis.com/v1beta/chat/completions",
      "\nDuring handling of the above exception, another exception occurred:\n",
      "\u001b[0;31mRuntimeError\u001b[0m                              Traceback (most recent call last)",
      "\u001b[0;32m/var/folders/51/fbzmg20s5p71l90t_lz973080000gn/T/ipykernel_2706/4151714009.py\u001b[0m in \u001b[0;36m<module>\u001b[0;34m\u001b[0m\n\u001b[1;32m      1\u001b[0m \u001b[0;31m# Validation\u001b[0m\u001b[0;34m\u001b[0m\u001b[0;34m\u001b[0m\u001b[0m\n\u001b[0;32m----> 2\u001b[0;31m \u001b[0mresponse\u001b[0m \u001b[0;34m=\u001b[0m \u001b[0mgemini_function\u001b[0m\u001b[0;34m(\u001b[0m\u001b[0;34m'How are you?'\u001b[0m\u001b[0;34m)\u001b[0m\u001b[0;34m\u001b[0m\u001b[0;34m\u001b[0m\u001b[0m\n\u001b[0m\u001b[1;32m      3\u001b[0m \u001b[0mprint\u001b[0m\u001b[0;34m(\u001b[0m\u001b[0;34mf'Question: {question}'\u001b[0m\u001b[0;34m)\u001b[0m\u001b[0;34m\u001b[0m\u001b[0;34m\u001b[0m\u001b[0m\n\u001b[1;32m      4\u001b[0m \u001b[0mprint\u001b[0m\u001b[0;34m(\u001b[0m\u001b[0;34mf'Response: {response}'\u001b[0m\u001b[0;34m)\u001b[0m\u001b[0;34m\u001b[0m\u001b[0;34m\u001b[0m\u001b[0m\n",
      "\u001b[0;32m/var/folders/51/fbzmg20s5p71l90t_lz973080000gn/T/ipykernel_2706/3817343181.py\u001b[0m in \u001b[0;36mgemini_function\u001b[0;34m(question)\u001b[0m\n\u001b[1;32m     25\u001b[0m         \u001b[0;32mreturn\u001b[0m \u001b[0mdata\u001b[0m\u001b[0;34m[\u001b[0m\u001b[0;34m'choices'\u001b[0m\u001b[0;34m]\u001b[0m\u001b[0;34m[\u001b[0m\u001b[0;36m0\u001b[0m\u001b[0;34m]\u001b[0m\u001b[0;34m[\u001b[0m\u001b[0;34m'message'\u001b[0m\u001b[0;34m]\u001b[0m\u001b[0;34m[\u001b[0m\u001b[0;34m'content'\u001b[0m\u001b[0;34m]\u001b[0m \u001b[0;31m# Returns content of the model's answer\u001b[0m\u001b[0;34m\u001b[0m\u001b[0;34m\u001b[0m\u001b[0m\n\u001b[1;32m     26\u001b[0m     \u001b[0;32mexcept\u001b[0m \u001b[0mrequests\u001b[0m\u001b[0;34m.\u001b[0m\u001b[0mRequestException\u001b[0m \u001b[0;32mas\u001b[0m \u001b[0me\u001b[0m\u001b[0;34m:\u001b[0m\u001b[0;34m\u001b[0m\u001b[0;34m\u001b[0m\u001b[0m\n\u001b[0;32m---> 27\u001b[0;31m         \u001b[0;32mraise\u001b[0m \u001b[0mRuntimeError\u001b[0m\u001b[0;34m(\u001b[0m\u001b[0;34mf\"Error: {e}\"\u001b[0m\u001b[0;34m)\u001b[0m\u001b[0;34m\u001b[0m\u001b[0;34m\u001b[0m\u001b[0m\n\u001b[0m\u001b[1;32m     28\u001b[0m     \u001b[0;32mexcept\u001b[0m \u001b[0mKeyError\u001b[0m\u001b[0;34m:\u001b[0m\u001b[0;34m\u001b[0m\u001b[0;34m\u001b[0m\u001b[0m\n\u001b[1;32m     29\u001b[0m         \u001b[0;32mraise\u001b[0m \u001b[0mRuntimeError\u001b[0m\u001b[0;34m(\u001b[0m\u001b[0;34m\"Incorrect answer format.\"\u001b[0m\u001b[0;34m)\u001b[0m\u001b[0;34m\u001b[0m\u001b[0;34m\u001b[0m\u001b[0m\n",
      "\u001b[0;31mRuntimeError\u001b[0m: Error: 400 Client Error: Bad Request for url: https://generativelanguage.googleapis.com/v1beta/chat/completions"
     ]
    }
   ],
   "source": [
    "# Validation\n",
    "response = gemini_function('How are you?')\n",
    "print(f'Question: {question}')\n",
    "print(f'Response: {response}')"
   ]
  },
  {
   "cell_type": "code",
   "execution_count": null,
   "id": "e56527a5",
   "metadata": {},
   "outputs": [],
   "source": []
  }
 ],
 "metadata": {
  "kernelspec": {
   "display_name": "Python 3 (ipykernel)",
   "language": "python",
   "name": "python3"
  },
  "language_info": {
   "codemirror_mode": {
    "name": "ipython",
    "version": 3
   },
   "file_extension": ".py",
   "mimetype": "text/x-python",
   "name": "python",
   "nbconvert_exporter": "python",
   "pygments_lexer": "ipython3",
   "version": "3.10.1"
  }
 },
 "nbformat": 4,
 "nbformat_minor": 5
}
